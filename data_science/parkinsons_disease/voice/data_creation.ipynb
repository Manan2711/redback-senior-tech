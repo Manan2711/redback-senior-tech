{
 "cells": [
  {
   "cell_type": "code",
   "execution_count": 1,
   "metadata": {},
   "outputs": [
    {
     "name": "stdout",
     "output_type": "stream",
     "text": [
      "Collecting ucimlrepo\n",
      "  Obtaining dependency information for ucimlrepo from https://files.pythonhosted.org/packages/3b/07/1252560194df2b4fad1cb3c46081b948331c63eb1bb0b97620d508d12a53/ucimlrepo-0.0.7-py3-none-any.whl.metadata\n",
      "  Downloading ucimlrepo-0.0.7-py3-none-any.whl.metadata (5.5 kB)\n",
      "Requirement already satisfied: pandas>=1.0.0 in /opt/homebrew/anaconda3/lib/python3.11/site-packages (from ucimlrepo) (2.0.3)\n",
      "Requirement already satisfied: certifi>=2020.12.5 in /opt/homebrew/anaconda3/lib/python3.11/site-packages (from ucimlrepo) (2024.2.2)\n",
      "Requirement already satisfied: python-dateutil>=2.8.2 in /opt/homebrew/anaconda3/lib/python3.11/site-packages (from pandas>=1.0.0->ucimlrepo) (2.8.2)\n",
      "Requirement already satisfied: pytz>=2020.1 in /opt/homebrew/anaconda3/lib/python3.11/site-packages (from pandas>=1.0.0->ucimlrepo) (2023.3.post1)\n",
      "Requirement already satisfied: tzdata>=2022.1 in /opt/homebrew/anaconda3/lib/python3.11/site-packages (from pandas>=1.0.0->ucimlrepo) (2023.3)\n",
      "Requirement already satisfied: numpy>=1.21.0 in /opt/homebrew/anaconda3/lib/python3.11/site-packages (from pandas>=1.0.0->ucimlrepo) (1.24.3)\n",
      "Requirement already satisfied: six>=1.5 in /opt/homebrew/anaconda3/lib/python3.11/site-packages (from python-dateutil>=2.8.2->pandas>=1.0.0->ucimlrepo) (1.16.0)\n",
      "Downloading ucimlrepo-0.0.7-py3-none-any.whl (8.0 kB)\n",
      "Installing collected packages: ucimlrepo\n",
      "Successfully installed ucimlrepo-0.0.7\n"
     ]
    }
   ],
   "source": [
    "!pip install ucimlrepo"
   ]
  },
  {
   "cell_type": "code",
   "execution_count": 1,
   "metadata": {},
   "outputs": [
    {
     "name": "stdout",
     "output_type": "stream",
     "text": [
      "{'uci_id': 174, 'name': 'Parkinsons', 'repository_url': 'https://archive.ics.uci.edu/dataset/174/parkinsons', 'data_url': 'https://archive.ics.uci.edu/static/public/174/data.csv', 'abstract': \"Oxford Parkinson's Disease Detection Dataset\", 'area': 'Health and Medicine', 'tasks': ['Classification'], 'characteristics': ['Multivariate'], 'num_instances': 197, 'num_features': 22, 'feature_types': ['Real'], 'demographics': [], 'target_col': ['status'], 'index_col': ['name'], 'has_missing_values': 'no', 'missing_values_symbol': None, 'year_of_dataset_creation': 2007, 'last_updated': 'Wed Feb 14 2024', 'dataset_doi': '10.24432/C59C74', 'creators': ['Max Little'], 'intro_paper': {'title': 'Exploiting Nonlinear Recurrence and Fractal Scaling Properties for Voice Disorder Detection', 'authors': 'Max A. Little, P. McSharry, S. Roberts, D. Costello, I. Moroz', 'published_in': 'BioMedical Engineering OnLine', 'year': 2007, 'url': 'https://www.semanticscholar.org/paper/27e1dcd0d64bfc9d936e597d4f29b80c21571936', 'doi': '10.1186/1475-925X-6-23'}, 'additional_info': {'summary': 'This dataset is composed of a range of biomedical voice measurements from 31 people, 23 with Parkinson\\'s disease (PD). Each column in the table is a particular voice measure, and each row corresponds one of 195 voice recording from these individuals (\"name\" column). The main aim of the data is to discriminate healthy people from those with PD, according to \"status\" column which is set to 0 for healthy and 1 for PD. \\r\\n\\r\\nThe data is in ASCII CSV format. The rows of the CSV file contain an instance corresponding to one voice recording. There are around six recordings per patient, the name of the patient is identified in the first column.For further information or to pass on comments, please contact Max Little (littlem \\'@\\' robots.ox.ac.uk).\\r\\n\\r\\nFurther details are contained in the following reference -- if you use this dataset, please cite:\\r\\nMax A. Little, Patrick E. McSharry, Eric J. Hunter, Lorraine O. Ramig (2008), \\'Suitability of dysphonia measurements for telemonitoring of Parkinson\\'s disease\\', IEEE Transactions on Biomedical Engineering (to appear).', 'purpose': None, 'funded_by': None, 'instances_represent': None, 'recommended_data_splits': None, 'sensitive_data': None, 'preprocessing_description': None, 'variable_info': \"Matrix column entries (attributes):\\r\\nname - ASCII subject name and recording number\\r\\nMDVP:Fo(Hz) - Average vocal fundamental frequency\\r\\nMDVP:Fhi(Hz) - Maximum vocal fundamental frequency\\r\\nMDVP:Flo(Hz) - Minimum vocal fundamental frequency\\r\\nMDVP:Jitter(%),MDVP:Jitter(Abs),MDVP:RAP,MDVP:PPQ,Jitter:DDP - Several measures of variation in fundamental frequency\\r\\nMDVP:Shimmer,MDVP:Shimmer(dB),Shimmer:APQ3,Shimmer:APQ5,MDVP:APQ,Shimmer:DDA - Several measures of variation in amplitude\\r\\nNHR,HNR - Two measures of ratio of noise to tonal components in the voice\\r\\nstatus - Health status of the subject (one) - Parkinson's, (zero) - healthy\\r\\nRPDE,D2 - Two nonlinear dynamical complexity measures\\r\\nDFA - Signal fractal scaling exponent\\r\\nspread1,spread2,PPE - Three nonlinear measures of fundamental frequency variation\\r\\n\", 'citation': None}}\n",
      "            name     role         type demographic description units  \\\n",
      "0           name       ID  Categorical        None        None  None   \n",
      "1        MDVP:Fo  Feature   Continuous        None        None    Hz   \n",
      "2       MDVP:Fhi  Feature   Continuous        None        None    Hz   \n",
      "3       MDVP:Flo  Feature   Continuous        None        None    Hz   \n",
      "4    MDVP:Jitter  Feature   Continuous        None        None     %   \n",
      "5    MDVP:Jitter  Feature   Continuous        None        None   Abs   \n",
      "6       MDVP:RAP  Feature   Continuous        None        None  None   \n",
      "7       MDVP:PPQ  Feature   Continuous        None        None  None   \n",
      "8     Jitter:DDP  Feature   Continuous        None        None  None   \n",
      "9   MDVP:Shimmer  Feature   Continuous        None        None  None   \n",
      "10  MDVP:Shimmer  Feature   Continuous        None        None    dB   \n",
      "11  Shimmer:APQ3  Feature   Continuous        None        None  None   \n",
      "12  Shimmer:APQ5  Feature   Continuous        None        None  None   \n",
      "13      MDVP:APQ  Feature   Continuous        None        None  None   \n",
      "14   Shimmer:DDA  Feature   Continuous        None        None  None   \n",
      "15           NHR  Feature   Continuous        None        None  None   \n",
      "16           HNR  Feature   Continuous        None        None  None   \n",
      "17        status   Target      Integer        None        None  None   \n",
      "18          RPDE  Feature   Continuous        None        None  None   \n",
      "19           DFA  Feature   Continuous        None        None  None   \n",
      "20       spread1  Feature   Continuous        None        None  None   \n",
      "21       spread2  Feature   Continuous        None        None  None   \n",
      "22            D2  Feature   Continuous        None        None  None   \n",
      "23           PPE  Feature   Continuous        None        None  None   \n",
      "\n",
      "   missing_values  \n",
      "0              no  \n",
      "1              no  \n",
      "2              no  \n",
      "3              no  \n",
      "4              no  \n",
      "5              no  \n",
      "6              no  \n",
      "7              no  \n",
      "8              no  \n",
      "9              no  \n",
      "10             no  \n",
      "11             no  \n",
      "12             no  \n",
      "13             no  \n",
      "14             no  \n",
      "15             no  \n",
      "16             no  \n",
      "17             no  \n",
      "18             no  \n",
      "19             no  \n",
      "20             no  \n",
      "21             no  \n",
      "22             no  \n",
      "23             no  \n"
     ]
    }
   ],
   "source": [
    "from ucimlrepo import fetch_ucirepo \n",
    "  \n",
    "# fetch dataset \n",
    "parkinsons = fetch_ucirepo(id=174) \n",
    "  \n",
    "# data (as pandas dataframes) \n",
    "X = parkinsons.data.features \n",
    "y = parkinsons.data.targets \n",
    "  \n",
    "# metadata \n",
    "print(parkinsons.metadata) \n",
    "  \n",
    "# variable information \n",
    "print(parkinsons.variables) \n"
   ]
  },
  {
   "cell_type": "code",
   "execution_count": 2,
   "metadata": {},
   "outputs": [
    {
     "name": "stdout",
     "output_type": "stream",
     "text": [
      "   MDVP:Fo  MDVP:Fhi  MDVP:Flo  MDVP:Jitter  MDVP:Jitter  MDVP:RAP  MDVP:PPQ  \\\n",
      "0  119.992   157.302    74.997      0.00784      0.00784   0.00370   0.00554   \n",
      "1  122.400   148.650   113.819      0.00968      0.00968   0.00465   0.00696   \n",
      "2  116.682   131.111   111.555      0.01050      0.01050   0.00544   0.00781   \n",
      "3  116.676   137.871   111.366      0.00997      0.00997   0.00502   0.00698   \n",
      "4  116.014   141.781   110.655      0.01284      0.01284   0.00655   0.00908   \n",
      "\n",
      "   Jitter:DDP  MDVP:Shimmer  MDVP:Shimmer  ...  Shimmer:DDA      NHR     HNR  \\\n",
      "0     0.01109       0.04374       0.04374  ...      0.06545  0.02211  21.033   \n",
      "1     0.01394       0.06134       0.06134  ...      0.09403  0.01929  19.085   \n",
      "2     0.01633       0.05233       0.05233  ...      0.08270  0.01309  20.651   \n",
      "3     0.01505       0.05492       0.05492  ...      0.08771  0.01353  20.644   \n",
      "4     0.01966       0.06425       0.06425  ...      0.10470  0.01767  19.649   \n",
      "\n",
      "       RPDE       DFA   spread1   spread2        D2       PPE  status  \n",
      "0  0.414783  0.815285 -4.813031  0.266482  2.301442  0.284654       1  \n",
      "1  0.458359  0.819521 -4.075192  0.335590  2.486855  0.368674       1  \n",
      "2  0.429895  0.825288 -4.443179  0.311173  2.342259  0.332634       1  \n",
      "3  0.434969  0.819235 -4.117501  0.334147  2.405554  0.368975       1  \n",
      "4  0.417356  0.823484 -3.747787  0.234513  2.332180  0.410335       1  \n",
      "\n",
      "[5 rows x 23 columns]\n"
     ]
    }
   ],
   "source": [
    "from ucimlrepo import fetch_ucirepo\n",
    "import pandas as pd\n",
    "\n",
    "# Fetch the Parkinson's Telemonitoring dataset\n",
    "parkinsons = fetch_ucirepo(id=174)\n",
    "\n",
    "# Extract the data as pandas dataframes\n",
    "X = parkinsons.data.features \n",
    "y = parkinsons.data.targets \n",
    "\n",
    "# Combine features and targets into a single dataframe\n",
    "data = pd.concat([X, y], axis=1)\n",
    "\n",
    "# Save the dataset to a CSV file\n",
    "data.to_csv('parkinsons.csv', index=False)\n",
    "\n",
    "# Display the first few rows of the dataset\n",
    "print(data.head())\n"
   ]
  }
 ],
 "metadata": {
  "kernelspec": {
   "display_name": "Python 3",
   "language": "python",
   "name": "python3"
  },
  "language_info": {
   "codemirror_mode": {
    "name": "ipython",
    "version": 3
   },
   "file_extension": ".py",
   "mimetype": "text/x-python",
   "name": "python",
   "nbconvert_exporter": "python",
   "pygments_lexer": "ipython3",
   "version": "3.11.5"
  }
 },
 "nbformat": 4,
 "nbformat_minor": 2
}
